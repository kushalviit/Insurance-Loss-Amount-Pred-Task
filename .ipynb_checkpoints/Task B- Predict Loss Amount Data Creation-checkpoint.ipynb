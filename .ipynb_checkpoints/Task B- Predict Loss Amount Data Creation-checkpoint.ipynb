{
 "cells": [
  {
   "cell_type": "markdown",
   "metadata": {},
   "source": [
    "## Generation of Sample Data"
   ]
  },
  {
   "cell_type": "code",
   "execution_count": 5,
   "metadata": {},
   "outputs": [],
   "source": [
    "import random\n",
    "import pandas as pd\n",
    "import numpy as np\n",
    "import matplotlib.pyplot as plt"
   ]
  },
  {
   "cell_type": "code",
   "execution_count": 6,
   "metadata": {},
   "outputs": [],
   "source": [
    "# creating around 200 data samples\n",
    "Num_data=200\n",
    "identification=np.arange(Num_data)\n",
    "\n",
    "# creating age groups for different identification\n",
    "mu=0.2\n",
    "age = np.random.rayleigh(mu,Num_data)\n",
    "age=18+age*80\n",
    "age=age.astype(int)\n",
    "\n",
    "# creating car models for different identification\n",
    "car_model=[]\n",
    "for i in range(Num_data):\n",
    "    car_model.append(random.randint(1,3))\n",
    "\n",
    "car_model=np.array(car_model)\n",
    "\n",
    "# creating car age for different identification\n",
    "car_age=[]\n",
    "for i in range(Num_data):\n",
    "    car_age.append(random.randint(0,10))\n",
    "car_age=np.array(car_age)\n",
    "\n",
    "# creating car_cost for different identification\n",
    "car_cost=[]\n",
    "mu=0.4\n",
    "car_cost = np.random.rayleigh(mu,Num_data)\n",
    "car_cost = 3+car_cost*10\n",
    "\n",
    "# creating car_cost for different identification\n",
    "one_time_payment=[]\n",
    "for i in range(Num_data):\n",
    "    one_time_payment.append(random.randint(0,1))\n",
    "one_time_payment=np.array(one_time_payment)\n",
    "car_premium=(0.15*one_time_payment+0.2*(1-one_time_payment))*car_cost\n",
    "\n",
    "\n",
    "# Accident Seveiarity\n",
    "AS=[]\n",
    "for i in range(Num_data):\n",
    "    AS.append(random.randint(1,5))\n",
    "AS=np.array(AS)\n",
    "\n",
    "\n",
    "data_set=np.vstack((identification,age,car_model,car_age,car_cost,car_premium,AS)).T\n",
    "labels=['ID','Age','Car Model','Car Age','Car Cost','Insurance Amount/Premium','Accident Severity']"
   ]
  },
  {
   "cell_type": "code",
   "execution_count": 7,
   "metadata": {},
   "outputs": [
    {
     "data": {
      "image/png": "[encoded data removed]",
      "text/plain": [
       "<Figure size 432x288 with 1 Axes>"
      ]
     },
     "metadata": {
      "needs_background": "light"
     },
     "output_type": "display_data"
    },
    {
     "name": "stdout",
     "output_type": "stream",
     "text": [
      "0.5057811014183122\n"
     ]
    },
    {
     "data": {
      "image/png": "[encoded data removed]",
      "text/plain": [
       "<Figure size 432x288 with 1 Axes>"
      ]
     },
     "metadata": {
      "needs_background": "light"
     },
     "output_type": "display_data"
    },
    {
     "name": "stdout",
     "output_type": "stream",
     "text": [
      "3.260830798308899\n",
      "[[ 0.         20.          1.          8.         10.06514361  1.50977154\n",
      "   4.        ]\n",
      " [ 1.         37.          3.          2.         12.6891262   2.53782524\n",
      "   4.        ]\n",
      " [ 2.         30.          2.          0.         12.05093972  1.80764096\n",
      "   3.        ]\n",
      " [ 3.         33.          3.          4.          4.51477114  0.67721567\n",
      "   5.        ]\n",
      " [ 4.         41.          2.          5.          7.08217101  1.4164342\n",
      "   5.        ]]\n"
     ]
    }
   ],
   "source": [
    "plt.hist(car_premium, bins = 30)\n",
    "plt.show()\n",
    "print(np.min(car_premium))\n",
    "\n",
    "plt.hist(car_cost, bins = 30)\n",
    "plt.show()\n",
    "print(np.min(car_cost))\n",
    "\n",
    "print(data_set[0:5,:])"
   ]
  },
  {
   "cell_type": "code",
   "execution_count": 8,
   "metadata": {},
   "outputs": [],
   "source": [
    "dict_features={}\n",
    "\n",
    "for i in range(len(labels)):\n",
    "    dict_features[labels[i]]=data_set[:,i]\n",
    "    \n",
    "pd_df=pd.DataFrame(dict_features)\n",
    "\n",
    "pd_df.to_excel(\"Loss_Amount.xlsx\", sheet_name=\"Sheet 1\", index=False)"
   ]
  }
 ],
 "metadata": {
  "kernelspec": {
   "display_name": "Python 3",
   "language": "python",
   "name": "python3"
  },
  "language_info": {
   "codemirror_mode": {
    "name": "ipython",
    "version": 3
   },
   "file_extension": ".py",
   "mimetype": "text/x-python",
   "name": "python",
   "nbconvert_exporter": "python",
   "pygments_lexer": "ipython3",
   "version": "3.7.3"
  }
 },
 "nbformat": 4,
 "nbformat_minor": 2
}
